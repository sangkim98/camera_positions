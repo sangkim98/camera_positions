{
 "cells": [
  {
   "cell_type": "code",
   "execution_count": 1,
   "metadata": {},
   "outputs": [
    {
     "name": "stdout",
     "output_type": "stream",
     "text": [
      "Jupyter environment detected. Enabling Open3D WebVisualizer.\n",
      "[Open3D INFO] WebRTC GUI backend enabled.\n",
      "[Open3D INFO] WebRTCWindowSystem: HTTP handshake server disabled.\n"
     ]
    }
   ],
   "source": [
    "import open3d as o3d\n",
    "import numpy as np\n",
    "import json\n",
    "import pyramid"
   ]
  },
  {
   "cell_type": "code",
   "execution_count": 2,
   "metadata": {},
   "outputs": [],
   "source": [
    "bunch_of_extrinsics = []\n",
    "\n",
    "with open('/home/notingcode/Desktop/RealEstate10K/test/00ca5123d8ff6f83.txt') as f:\n",
    "    f.readline()\n",
    "    for line in f:\n",
    "        params = np.asarray(line.split())\n",
    "        flat_extrinsic = params[7:]\n",
    "        formatted_extrinsic = flat_extrinsic.reshape(3,4)\n",
    "        bunch_of_extrinsics.append(formatted_extrinsic)"
   ]
  },
  {
   "cell_type": "code",
   "execution_count": 3,
   "metadata": {},
   "outputs": [],
   "source": [
    "cameras_cones_list = []\n",
    "\n",
    "for extrinsic in bunch_of_extrinsics:\n",
    "   \n",
    "   camera = pyramid.create_base_pyramid(color=[1,0.3,0.3]).compute_vertex_normals()\n",
    "   \n",
    "   camera.scale(scale=0.001, center=camera.get_center()).rotate(extrinsic[:3,:3])\n",
    "   camera.translate(extrinsic[:3,3])\n",
    "   \n",
    "   cameras_cones_list.append(camera)"
   ]
  },
  {
   "cell_type": "code",
   "execution_count": 4,
   "metadata": {},
   "outputs": [
    {
     "data": {
      "text/plain": [
       "100"
      ]
     },
     "execution_count": 4,
     "metadata": {},
     "output_type": "execute_result"
    }
   ],
   "source": [
    "len(cameras_cones_list)"
   ]
  },
  {
   "cell_type": "code",
   "execution_count": 5,
   "metadata": {},
   "outputs": [],
   "source": [
    "o3d.visualization.draw_geometries(cameras_cones_list, mesh_show_back_face=True)"
   ]
  },
  {
   "cell_type": "code",
   "execution_count": 6,
   "metadata": {},
   "outputs": [
    {
     "data": {
      "text/plain": [
       "True"
      ]
     },
     "execution_count": 6,
     "metadata": {},
     "output_type": "execute_result"
    }
   ],
   "source": [
    "cameras_cones_list[0].is_edge_manifold()"
   ]
  }
 ],
 "metadata": {
  "kernelspec": {
   "display_name": "3d",
   "language": "python",
   "name": "python3"
  },
  "language_info": {
   "codemirror_mode": {
    "name": "ipython",
    "version": 3
   },
   "file_extension": ".py",
   "mimetype": "text/x-python",
   "name": "python",
   "nbconvert_exporter": "python",
   "pygments_lexer": "ipython3",
   "version": "3.11.7"
  }
 },
 "nbformat": 4,
 "nbformat_minor": 2
}
